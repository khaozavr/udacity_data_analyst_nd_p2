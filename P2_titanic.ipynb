{
 "cells": [
  {
   "cell_type": "markdown",
   "metadata": {},
   "source": [
    "# Analyzing the Titanic dataset\n",
    "### *by Andrii Zakharov*"
   ]
  },
  {
   "cell_type": "markdown",
   "metadata": {},
   "source": [
    "***\n",
    "First things first: importing all the necessary stuff and loading the dataset:"
   ]
  },
  {
   "cell_type": "code",
   "execution_count": 21,
   "metadata": {
    "collapsed": false
   },
   "outputs": [],
   "source": [
    "import numpy as np\n",
    "import pandas as pd\n",
    "import matplotlib.pyplot as plt\n",
    "import seaborn as sns\n",
    "\n",
    "data = pd.read_csv('titanic_data.csv')"
   ]
  },
  {
   "cell_type": "markdown",
   "metadata": {},
   "source": [
    "Ok, let's take a first look at it:"
   ]
  },
  {
   "cell_type": "code",
   "execution_count": 22,
   "metadata": {
    "collapsed": false
   },
   "outputs": [
    {
     "data": {
      "text/html": [
       "<div>\n",
       "<table border=\"1\" class=\"dataframe\">\n",
       "  <thead>\n",
       "    <tr style=\"text-align: right;\">\n",
       "      <th></th>\n",
       "      <th>PassengerId</th>\n",
       "      <th>Survived</th>\n",
       "      <th>Pclass</th>\n",
       "      <th>Name</th>\n",
       "      <th>Sex</th>\n",
       "      <th>Age</th>\n",
       "      <th>SibSp</th>\n",
       "      <th>Parch</th>\n",
       "      <th>Ticket</th>\n",
       "      <th>Fare</th>\n",
       "      <th>Cabin</th>\n",
       "      <th>Embarked</th>\n",
       "    </tr>\n",
       "  </thead>\n",
       "  <tbody>\n",
       "    <tr>\n",
       "      <th>0</th>\n",
       "      <td>1</td>\n",
       "      <td>0</td>\n",
       "      <td>3</td>\n",
       "      <td>Braund, Mr. Owen Harris</td>\n",
       "      <td>male</td>\n",
       "      <td>22.0</td>\n",
       "      <td>1</td>\n",
       "      <td>0</td>\n",
       "      <td>A/5 21171</td>\n",
       "      <td>7.2500</td>\n",
       "      <td>NaN</td>\n",
       "      <td>S</td>\n",
       "    </tr>\n",
       "    <tr>\n",
       "      <th>1</th>\n",
       "      <td>2</td>\n",
       "      <td>1</td>\n",
       "      <td>1</td>\n",
       "      <td>Cumings, Mrs. John Bradley (Florence Briggs Th...</td>\n",
       "      <td>female</td>\n",
       "      <td>38.0</td>\n",
       "      <td>1</td>\n",
       "      <td>0</td>\n",
       "      <td>PC 17599</td>\n",
       "      <td>71.2833</td>\n",
       "      <td>C85</td>\n",
       "      <td>C</td>\n",
       "    </tr>\n",
       "    <tr>\n",
       "      <th>2</th>\n",
       "      <td>3</td>\n",
       "      <td>1</td>\n",
       "      <td>3</td>\n",
       "      <td>Heikkinen, Miss. Laina</td>\n",
       "      <td>female</td>\n",
       "      <td>26.0</td>\n",
       "      <td>0</td>\n",
       "      <td>0</td>\n",
       "      <td>STON/O2. 3101282</td>\n",
       "      <td>7.9250</td>\n",
       "      <td>NaN</td>\n",
       "      <td>S</td>\n",
       "    </tr>\n",
       "    <tr>\n",
       "      <th>3</th>\n",
       "      <td>4</td>\n",
       "      <td>1</td>\n",
       "      <td>1</td>\n",
       "      <td>Futrelle, Mrs. Jacques Heath (Lily May Peel)</td>\n",
       "      <td>female</td>\n",
       "      <td>35.0</td>\n",
       "      <td>1</td>\n",
       "      <td>0</td>\n",
       "      <td>113803</td>\n",
       "      <td>53.1000</td>\n",
       "      <td>C123</td>\n",
       "      <td>S</td>\n",
       "    </tr>\n",
       "    <tr>\n",
       "      <th>4</th>\n",
       "      <td>5</td>\n",
       "      <td>0</td>\n",
       "      <td>3</td>\n",
       "      <td>Allen, Mr. William Henry</td>\n",
       "      <td>male</td>\n",
       "      <td>35.0</td>\n",
       "      <td>0</td>\n",
       "      <td>0</td>\n",
       "      <td>373450</td>\n",
       "      <td>8.0500</td>\n",
       "      <td>NaN</td>\n",
       "      <td>S</td>\n",
       "    </tr>\n",
       "  </tbody>\n",
       "</table>\n",
       "</div>"
      ],
      "text/plain": [
       "   PassengerId  Survived  Pclass  \\\n",
       "0            1         0       3   \n",
       "1            2         1       1   \n",
       "2            3         1       3   \n",
       "3            4         1       1   \n",
       "4            5         0       3   \n",
       "\n",
       "                                                Name     Sex   Age  SibSp  \\\n",
       "0                            Braund, Mr. Owen Harris    male  22.0      1   \n",
       "1  Cumings, Mrs. John Bradley (Florence Briggs Th...  female  38.0      1   \n",
       "2                             Heikkinen, Miss. Laina  female  26.0      0   \n",
       "3       Futrelle, Mrs. Jacques Heath (Lily May Peel)  female  35.0      1   \n",
       "4                           Allen, Mr. William Henry    male  35.0      0   \n",
       "\n",
       "   Parch            Ticket     Fare Cabin Embarked  \n",
       "0      0         A/5 21171   7.2500   NaN        S  \n",
       "1      0          PC 17599  71.2833   C85        C  \n",
       "2      0  STON/O2. 3101282   7.9250   NaN        S  \n",
       "3      0            113803  53.1000  C123        S  \n",
       "4      0            373450   8.0500   NaN        S  "
      ]
     },
     "execution_count": 22,
     "metadata": {},
     "output_type": "execute_result"
    }
   ],
   "source": [
    "data.head()"
   ]
  },
  {
   "cell_type": "markdown",
   "metadata": {},
   "source": [
    "Some variable names are not obvious, so here are the variable descriptions from Kaggle for reference:\n",
    "\n",
    "|variable name|description|\n",
    "|---|---|\n",
    "|survival|        Survival (0 = No; 1 = Yes)|\n",
    "|pclass|          Passenger Class (1 = 1st; 2 = 2nd; 3 = 3rd)\n",
    "|name|            Name|\n",
    "|sex|             Sex|\n",
    "|age|             Age|\n",
    "|sibsp|           Number of Siblings/Spouses Aboard|\n",
    "|parch|           Number of Parents/Children Aboard|\n",
    "|ticket|          Ticket Number|\n",
    "|fare|            Passenger Fare|\n",
    "|cabin|           Cabin|\n",
    "|embarked|        Port of Embarkation (C = Cherbourg; Q = Queenstown; S = Southampton)|"
   ]
  },
  {
   "cell_type": "markdown",
   "metadata": {},
   "source": [
    "## Hypotheses\n",
    "\n",
    "It would be interesting to know whether different characteristics of passengers played a role in their survival.\n",
    "\n",
    "Some hypotheses that I have are:\n",
    "\n",
    "* Women were more likely to survive than men\n",
    "* Children were more likely to survive than adults\n",
    "* Higher passenger class corresponded to higher survival rates\n",
    "\n",
    "These are all based on my expectation of how such emergency situations play out: Adult men helping women and children first, and higher class passengers having better/faster access to the lifeboats.\n",
    "\n",
    "Now let's see if my intuition is correct!"
   ]
  },
  {
   "cell_type": "markdown",
   "metadata": {},
   "source": [
    "## Descriptive part\n",
    "\n",
    "First I want to check whether any variables contain missing values."
   ]
  },
  {
   "cell_type": "code",
   "execution_count": 23,
   "metadata": {
    "collapsed": false
   },
   "outputs": [
    {
     "data": {
      "text/plain": [
       "PassengerId    891\n",
       "Survived       891\n",
       "Pclass         891\n",
       "Name           891\n",
       "Sex            891\n",
       "Age            714\n",
       "SibSp          891\n",
       "Parch          891\n",
       "Ticket         891\n",
       "Fare           891\n",
       "Cabin          204\n",
       "Embarked       889\n",
       "dtype: int64"
      ]
     },
     "execution_count": 23,
     "metadata": {},
     "output_type": "execute_result"
    }
   ],
   "source": [
    "data.count()"
   ]
  },
  {
   "cell_type": "markdown",
   "metadata": {},
   "source": [
    "So we have data for 891 passengers, and indeed, there are a bunch of missing data for Age and Cabin and a couple missing values for Embarked.\n",
    "\n",
    "In the following I will look at a subset of the data, containing the Sex, Age, and Pclass variables as predictors for survival. I will filter out the passengers whose Age is missing from the data. It is the simplest way to deal with missing values, and even though we lose some information (in this case, 891-714=177 observations), the remaining amount should be enough to produce some insights. In a more comprehensive analysis, I might try some imputation method for the missing data (e.g. substitute the missing age values with the mean age, or a more sophisticated model trying to infer passengers' age from other data), but that would be out of the scope of this project. Also, I have doubts that the payoff in this case would be worth the hassle.\n",
    "\n",
    "At the end, I will take another look at the full dataset and try to connect my findings to other variables that might be of interest."
   ]
  },
  {
   "cell_type": "code",
   "execution_count": 24,
   "metadata": {
    "collapsed": false
   },
   "outputs": [
    {
     "data": {
      "text/plain": [
       "Sex         714\n",
       "Age         714\n",
       "Pclass      714\n",
       "Survived    714\n",
       "dtype: int64"
      ]
     },
     "execution_count": 24,
     "metadata": {},
     "output_type": "execute_result"
    }
   ],
   "source": [
    "# take subset of the data, filter out missings\n",
    "data_subset = data[['Sex', 'Age', 'Pclass', 'Survived']].dropna()\n",
    "data_subset.count()"
   ]
  },
  {
   "cell_type": "markdown",
   "metadata": {},
   "source": [
    "First, let's see how many women and men there were in each class:"
   ]
  },
  {
   "cell_type": "code",
   "execution_count": 25,
   "metadata": {
    "collapsed": false
   },
   "outputs": [
    {
     "data": {
      "text/html": [
       "<div>\n",
       "<table border=\"1\" class=\"dataframe\">\n",
       "  <thead>\n",
       "    <tr style=\"text-align: right;\">\n",
       "      <th>Sex</th>\n",
       "      <th>female</th>\n",
       "      <th>male</th>\n",
       "    </tr>\n",
       "    <tr>\n",
       "      <th>Pclass</th>\n",
       "      <th></th>\n",
       "      <th></th>\n",
       "    </tr>\n",
       "  </thead>\n",
       "  <tbody>\n",
       "    <tr>\n",
       "      <th>1</th>\n",
       "      <td>85</td>\n",
       "      <td>101</td>\n",
       "    </tr>\n",
       "    <tr>\n",
       "      <th>2</th>\n",
       "      <td>74</td>\n",
       "      <td>99</td>\n",
       "    </tr>\n",
       "    <tr>\n",
       "      <th>3</th>\n",
       "      <td>102</td>\n",
       "      <td>253</td>\n",
       "    </tr>\n",
       "  </tbody>\n",
       "</table>\n",
       "</div>"
      ],
      "text/plain": [
       "Sex     female  male\n",
       "Pclass              \n",
       "1           85   101\n",
       "2           74    99\n",
       "3          102   253"
      ]
     },
     "execution_count": 25,
     "metadata": {},
     "output_type": "execute_result"
    }
   ],
   "source": [
    "counts_table = pd.crosstab(data_subset['Pclass'], data_subset['Sex'])\n",
    "counts_table"
   ]
  },
  {
   "cell_type": "markdown",
   "metadata": {},
   "source": [
    "As a plot:"
   ]
  },
  {
   "cell_type": "code",
   "execution_count": 26,
   "metadata": {
    "collapsed": false
   },
   "outputs": [
    {
     "data": {
      "text/plain": [
       "<matplotlib.axes._subplots.AxesSubplot at 0x118a1fe50>"
      ]
     },
     "execution_count": 26,
     "metadata": {},
     "output_type": "execute_result"
    },
    {
     "data": {
      "image/png": "[encoded data removed]",
      "text/plain": [
       "<matplotlib.figure.Figure at 0x11a39fcd0>"
      ]
     },
     "metadata": {},
     "output_type": "display_data"
    }
   ],
   "source": [
    "%matplotlib inline\n",
    "\n",
    "counts_table.plot(kind = 'bar')"
   ]
  },
  {
   "cell_type": "markdown",
   "metadata": {},
   "source": [
    "The third class had not many more women, but over twice as many men as the first or the second. \n",
    "\n",
    "How many of them survived?"
   ]
  },
  {
   "cell_type": "code",
   "execution_count": 27,
   "metadata": {
    "collapsed": false
   },
   "outputs": [
    {
     "data": {
      "text/html": [
       "<div>\n",
       "<table border=\"1\" class=\"dataframe\">\n",
       "  <thead>\n",
       "    <tr>\n",
       "      <th>Survived</th>\n",
       "      <th colspan=\"2\" halign=\"left\">0</th>\n",
       "      <th colspan=\"2\" halign=\"left\">1</th>\n",
       "    </tr>\n",
       "    <tr>\n",
       "      <th>Sex</th>\n",
       "      <th>female</th>\n",
       "      <th>male</th>\n",
       "      <th>female</th>\n",
       "      <th>male</th>\n",
       "    </tr>\n",
       "    <tr>\n",
       "      <th>Pclass</th>\n",
       "      <th></th>\n",
       "      <th></th>\n",
       "      <th></th>\n",
       "      <th></th>\n",
       "    </tr>\n",
       "  </thead>\n",
       "  <tbody>\n",
       "    <tr>\n",
       "      <th>1</th>\n",
       "      <td>3</td>\n",
       "      <td>61</td>\n",
       "      <td>82</td>\n",
       "      <td>40</td>\n",
       "    </tr>\n",
       "    <tr>\n",
       "      <th>2</th>\n",
       "      <td>6</td>\n",
       "      <td>84</td>\n",
       "      <td>68</td>\n",
       "      <td>15</td>\n",
       "    </tr>\n",
       "    <tr>\n",
       "      <th>3</th>\n",
       "      <td>55</td>\n",
       "      <td>215</td>\n",
       "      <td>47</td>\n",
       "      <td>38</td>\n",
       "    </tr>\n",
       "  </tbody>\n",
       "</table>\n",
       "</div>"
      ],
      "text/plain": [
       "Survived      0           1     \n",
       "Sex      female male female male\n",
       "Pclass                          \n",
       "1             3   61     82   40\n",
       "2             6   84     68   15\n",
       "3            55  215     47   38"
      ]
     },
     "execution_count": 27,
     "metadata": {},
     "output_type": "execute_result"
    }
   ],
   "source": [
    "survived_table = pd.crosstab(data_subset['Pclass'], [data_subset['Survived'], data_subset['Sex']])\n",
    "survived_table"
   ]
  },
  {
   "cell_type": "markdown",
   "metadata": {},
   "source": [
    "As a percentage:"
   ]
  },
  {
   "cell_type": "code",
   "execution_count": 28,
   "metadata": {
    "collapsed": false
   },
   "outputs": [
    {
     "data": {
      "text/html": [
       "<div>\n",
       "<table border=\"1\" class=\"dataframe\">\n",
       "  <thead>\n",
       "    <tr style=\"text-align: right;\">\n",
       "      <th>Sex</th>\n",
       "      <th>female</th>\n",
       "      <th>male</th>\n",
       "    </tr>\n",
       "    <tr>\n",
       "      <th>Pclass</th>\n",
       "      <th></th>\n",
       "      <th></th>\n",
       "    </tr>\n",
       "  </thead>\n",
       "  <tbody>\n",
       "    <tr>\n",
       "      <th>1</th>\n",
       "      <td>96.470588</td>\n",
       "      <td>39.603960</td>\n",
       "    </tr>\n",
       "    <tr>\n",
       "      <th>2</th>\n",
       "      <td>91.891892</td>\n",
       "      <td>15.151515</td>\n",
       "    </tr>\n",
       "    <tr>\n",
       "      <th>3</th>\n",
       "      <td>46.078431</td>\n",
       "      <td>15.019763</td>\n",
       "    </tr>\n",
       "  </tbody>\n",
       "</table>\n",
       "</div>"
      ],
      "text/plain": [
       "Sex        female       male\n",
       "Pclass                      \n",
       "1       96.470588  39.603960\n",
       "2       91.891892  15.151515\n",
       "3       46.078431  15.019763"
      ]
     },
     "execution_count": 28,
     "metadata": {},
     "output_type": "execute_result"
    }
   ],
   "source": [
    "survived_table[1] / counts_table * 100"
   ]
  },
  {
   "cell_type": "markdown",
   "metadata": {},
   "source": [
    "Some striking differences there! Let's visualize them by putting the survivors on top of the previous plot of total counts:"
   ]
  },
  {
   "cell_type": "code",
   "execution_count": 29,
   "metadata": {
    "collapsed": false
   },
   "outputs": [
    {
     "data": {
      "text/plain": [
       "<matplotlib.legend.Legend at 0x11a750490>"
      ]
     },
     "execution_count": 29,
     "metadata": {},
     "output_type": "execute_result"
    },
    {
     "data": {
      "image/png": "[encoded data removed]",
      "text/plain": [
       "<matplotlib.figure.Figure at 0x11a3c2190>"
      ]
     },
     "metadata": {},
     "output_type": "display_data"
    }
   ],
   "source": [
    "fig, axs = plt.subplots(figsize = (9, 6))\n",
    "\n",
    "plot1 = counts_table.plot(kind = 'bar', ax = axs, title = \"Survival on top of total counts, by gender and passenger class\")\n",
    "plot2 = survived_table[1].plot(kind = 'bar', color = 'r', ax = axs)\n",
    "plot2.legend(('female', 'male', 'survived'), loc = 2)"
   ]
  },
  {
   "cell_type": "markdown",
   "metadata": {},
   "source": [
    "There's obviously a massive gender difference, but it's also peculiar how close to all women survived in the first and second class, but only about a half in the third.\n",
    "\n",
    "The gender difference in survival summarized across class, in percent:"
   ]
  },
  {
   "cell_type": "code",
   "execution_count": 30,
   "metadata": {
    "collapsed": false,
    "scrolled": true
   },
   "outputs": [
    {
     "data": {
      "text/plain": [
       "Sex\n",
       "female    75.478927\n",
       "male      20.529801\n",
       "Name: Survived, dtype: float64"
      ]
     },
     "execution_count": 30,
     "metadata": {},
     "output_type": "execute_result"
    }
   ],
   "source": [
    "data_subset.groupby('Sex')['Survived'].mean() * 100"
   ]
  },
  {
   "cell_type": "markdown",
   "metadata": {},
   "source": [
    "Could these striking differences in the survival rate have something to do with passengers' age? Let's plot the age distributions by class and gender:"
   ]
  },
  {
   "cell_type": "code",
   "execution_count": 31,
   "metadata": {
    "collapsed": false,
    "scrolled": false
   },
   "outputs": [
    {
     "data": {
      "text/plain": [
       "<seaborn.axisgrid.FacetGrid at 0x11a3ca1d0>"
      ]
     },
     "execution_count": 31,
     "metadata": {},
     "output_type": "execute_result"
    },
    {
     "data": {
      "image/png": "[encoded data removed]",
      "text/plain": [
       "<matplotlib.figure.Figure at 0x11865f890>"
      ]
     },
     "metadata": {},
     "output_type": "display_data"
    }
   ],
   "source": [
    "g = sns.FacetGrid(data_subset, col=\"Pclass\", size=6, aspect=.7)\n",
    "g.map(sns.violinplot, \"Sex\", \"Age\")"
   ]
  },
  {
   "cell_type": "markdown",
   "metadata": {},
   "source": [
    "First class passengers appear to be a little older on average, with women slightly older than men. The reverse is true for the third class, and it is the youngest in general. \n",
    "\n",
    "Let's split the distributions by survival."
   ]
  },
  {
   "cell_type": "code",
   "execution_count": 32,
   "metadata": {
    "collapsed": false
   },
   "outputs": [
    {
     "data": {
      "text/plain": [
       "<seaborn.axisgrid.FacetGrid at 0x11a7e48d0>"
      ]
     },
     "execution_count": 32,
     "metadata": {},
     "output_type": "execute_result"
    },
    {
     "data": {
      "image/png": "[encoded data removed]",
      "text/plain": [
       "<matplotlib.figure.Figure at 0x11aa61050>"
      ]
     },
     "metadata": {},
     "output_type": "display_data"
    }
   ],
   "source": [
    "g = sns.FacetGrid(data_subset, col=\"Pclass\", size=6, aspect=.7)\n",
    "g.map(sns.violinplot, \"Sex\", \"Age\", \"Survived\", split=True).add_legend(title=\"Survived\")"
   ]
  },
  {
   "cell_type": "markdown",
   "metadata": {},
   "source": [
    "There's a general trend for survival of the younger, and the women (with the exception of men in first class - but it probably is a statistical artifact, as the distribution goes way below zero).\n",
    "\n",
    "I'd like to introduce the \"children\" category to the data now, instead of working with the continuous Age further. I do this to somewhat simplify my analysis, as I assume that the relationship between age and survival is not perfectly linear. Of course, this decision is somewhat arbitrary, and I could define it in different ways, but I will go with standard and define \"child\" as < 18 years of age, and \"adult\" as >= 18. A simple function will help us to add this new categorical variable."
   ]
  },
  {
   "cell_type": "code",
   "execution_count": 33,
   "metadata": {
    "collapsed": false
   },
   "outputs": [],
   "source": [
    "def child_or_adult(age):\n",
    "    '''\n",
    "    Takes numeric age value and returns strings for \n",
    "    children and adults, or None if the value is missing\n",
    "    '''\n",
    "    if age < 18:\n",
    "        return 'child'\n",
    "    elif age >= 18:\n",
    "        return 'adult'\n",
    "    else:\n",
    "        return None\n",
    "\n",
    "# creates a new categorical variable in the dataframe\n",
    "data_subset['Child_or_adult'] = data_subset['Age'].apply(child_or_adult)"
   ]
  },
  {
   "cell_type": "markdown",
   "metadata": {},
   "source": [
    "Here are the survival percentages for children vs. adults:"
   ]
  },
  {
   "cell_type": "code",
   "execution_count": 34,
   "metadata": {
    "collapsed": false
   },
   "outputs": [
    {
     "data": {
      "text/plain": [
       "Child_or_adult\n",
       "adult    38.103161\n",
       "child    53.982301\n",
       "Name: Survived, dtype: float64"
      ]
     },
     "execution_count": 34,
     "metadata": {},
     "output_type": "execute_result"
    }
   ],
   "source": [
    "data_subset.groupby('Child_or_adult')['Survived'].mean() * 100"
   ]
  },
  {
   "cell_type": "markdown",
   "metadata": {},
   "source": [
    "Let's now take the survival plotted on top of total counts by gender and class, and split it into children and adults. We will produce two side-by-side plots."
   ]
  },
  {
   "cell_type": "code",
   "execution_count": 35,
   "metadata": {
    "collapsed": false
   },
   "outputs": [
    {
     "data": {
      "text/plain": [
       "<matplotlib.legend.Legend at 0x11bda9c50>"
      ]
     },
     "execution_count": 35,
     "metadata": {},
     "output_type": "execute_result"
    },
    {
     "data": {
      "image/png": "[encoded data removed]",
      "text/plain": [
       "<matplotlib.figure.Figure at 0x115ef9e90>"
      ]
     },
     "metadata": {},
     "output_type": "display_data"
    }
   ],
   "source": [
    "# create data frames and tables for children and adults separately\n",
    "data_subset_child = data_subset.loc[data_subset['Child_or_adult'] == 'child']\n",
    "data_subset_adult = data_subset.loc[data_subset['Child_or_adult'] == 'adult']\n",
    "counts_table_child = pd.crosstab(data_subset_child['Pclass'], data_subset_child['Sex'])\n",
    "counts_table_adult = pd.crosstab(data_subset_adult['Pclass'], data_subset_adult['Sex'])\n",
    "survived_table_child = pd.crosstab(data_subset_child['Pclass'], \n",
    "                                   [data_subset_child['Survived'], data_subset_child['Sex']])\n",
    "survived_table_adult = pd.crosstab(data_subset_adult['Pclass'], \n",
    "                                   [data_subset_adult['Survived'], data_subset_adult['Sex']])\n",
    "\n",
    "# plot them on top of each other\n",
    "fig, axs = plt.subplots(ncols = 2, figsize = (18, 6))\n",
    "\n",
    "plot_child1 = counts_table_child.plot(kind = 'bar', ax = axs[0], \n",
    "                                      title = \"Survival of children on top of counts, by gender and passenger class\")\n",
    "plot_child2 = survived_table_child[1].plot(kind = 'bar', color = 'r', ax = axs[0])\n",
    "plot_child2.legend(('female', 'male', 'survived'), loc = 2)\n",
    "plot_child1.set_ylim([0, 250])\n",
    "plot_child2.set_ylim([0, 250])\n",
    "plot_adult1 = counts_table_adult.plot(kind = 'bar', ax = axs[1], \n",
    "                                      title = \"Survival of adults on top of counts, by gender and passenger class\")\n",
    "plot_adult2 = survived_table_adult[1].plot(kind = 'bar', color = 'r', ax = axs[1])\n",
    "plot_adult2.legend(('female', 'male', 'survived'), loc = 2)"
   ]
  },
  {
   "cell_type": "markdown",
   "metadata": {},
   "source": [
    "We see that not only did almost all adult women from the first and second class escape, but also almost all the children. A comparable number of children escaped from the third class, but here there were over twice as many in total, so the survivors didn't even comprise a half. Still, the survival rate of children was much larger than that of adults in the third class, as evident from the plot on the right.\n",
    "\n",
    "It is also evident, however, that higher survival rate of children doesn't explain the class or gender differences. Each of these seem to have a main effect.\n",
    "\n",
    "As an intermediate summary, there appears to be evidence for my intuitive hypotheses so far."
   ]
  },
  {
   "cell_type": "markdown",
   "metadata": {},
   "source": [
    "## Inferential part -- what are the odds?\n",
    "\n",
    "To make sure, I will run a logistic regression with these three predictors (Sex, Child/Adult, Class), to try and get the odds of survival based on each of them.\n",
    "\n",
    "I will use the statsmodels module. The first step is to dummy-recode the predictors."
   ]
  },
  {
   "cell_type": "code",
   "execution_count": 36,
   "metadata": {
    "collapsed": false
   },
   "outputs": [
    {
     "name": "stdout",
     "output_type": "stream",
     "text": [
      "   female  male\n",
      "0     0.0   1.0\n",
      "1     1.0   0.0\n",
      "2     1.0   0.0\n",
      "3     1.0   0.0\n",
      "4     0.0   1.0\n",
      "   adult  child\n",
      "0    1.0    0.0\n",
      "1    1.0    0.0\n",
      "2    1.0    0.0\n",
      "3    1.0    0.0\n",
      "4    1.0    0.0\n",
      "   pclass_1  pclass_2  pclass_3\n",
      "0       0.0       0.0       1.0\n",
      "1       1.0       0.0       0.0\n",
      "2       0.0       0.0       1.0\n",
      "3       1.0       0.0       0.0\n",
      "4       0.0       0.0       1.0\n"
     ]
    }
   ],
   "source": [
    "import statsmodels.api as sm\n",
    "\n",
    "# \"dummify\" the predictor variables\n",
    "dummy_sex = pd.get_dummies(data_subset['Sex'])\n",
    "dummy_ch_or_ad = pd.get_dummies(data_subset['Child_or_adult'])\n",
    "dummy_class = pd.get_dummies(data_subset['Pclass'], prefix='pclass')\n",
    "\n",
    "print dummy_sex.head()\n",
    "print dummy_ch_or_ad.head()\n",
    "print dummy_class.head()"
   ]
  },
  {
   "cell_type": "markdown",
   "metadata": {},
   "source": [
    "Then I create a new dataframe to run the regression on.\n",
    "\n",
    "\"Female\", \"child\" and \"pclass_1\" levels are left out as baselines. Intercept is added manually as a constant."
   ]
  },
  {
   "cell_type": "code",
   "execution_count": 37,
   "metadata": {
    "collapsed": false
   },
   "outputs": [
    {
     "name": "stdout",
     "output_type": "stream",
     "text": [
      "   Survived  male  adult  pclass_2  pclass_3  intercept\n",
      "0         0   1.0    1.0       0.0       1.0        1.0\n",
      "1         1   0.0    1.0       0.0       0.0        1.0\n",
      "2         1   0.0    1.0       0.0       1.0        1.0\n",
      "3         1   0.0    1.0       0.0       0.0        1.0\n",
      "4         0   1.0    1.0       0.0       1.0        1.0\n"
     ]
    }
   ],
   "source": [
    "data_for_logit = data_subset[['Survived']].join([dummy_sex['male'], dummy_ch_or_ad['adult'], dummy_class.ix[:, 'pclass_2':]])\n",
    "data_for_logit['intercept'] = 1.0\n",
    "print data_for_logit.head()"
   ]
  },
  {
   "cell_type": "markdown",
   "metadata": {},
   "source": [
    "Running the logistic regression gives us a nice results table. I'm only interested in coefficients and significance here. The table conveniently provides us with z-transformed coefficients, and the corresponding p-values, allowing for a statement of significance for our findings."
   ]
  },
  {
   "cell_type": "code",
   "execution_count": 38,
   "metadata": {
    "collapsed": false
   },
   "outputs": [
    {
     "name": "stdout",
     "output_type": "stream",
     "text": [
      "Optimization terminated successfully.\n",
      "         Current function value: 0.459793\n",
      "         Iterations 6\n"
     ]
    },
    {
     "data": {
      "text/html": [
       "<table class=\"simpletable\">\n",
       "<caption>Logit Regression Results</caption>\n",
       "<tr>\n",
       "  <th>Dep. Variable:</th>     <td>Survived</td>     <th>  No. Observations:  </th>  <td>   714</td>  \n",
       "</tr>\n",
       "<tr>\n",
       "  <th>Model:</th>               <td>Logit</td>      <th>  Df Residuals:      </th>  <td>   709</td>  \n",
       "</tr>\n",
       "<tr>\n",
       "  <th>Method:</th>               <td>MLE</td>       <th>  Df Model:          </th>  <td>     4</td>  \n",
       "</tr>\n",
       "<tr>\n",
       "  <th>Date:</th>          <td>Tue, 02 Aug 2016</td> <th>  Pseudo R-squ.:     </th>  <td>0.3193</td>  \n",
       "</tr>\n",
       "<tr>\n",
       "  <th>Time:</th>              <td>18:30:55</td>     <th>  Log-Likelihood:    </th> <td> -328.29</td> \n",
       "</tr>\n",
       "<tr>\n",
       "  <th>converged:</th>           <td>True</td>       <th>  LL-Null:           </th> <td> -482.26</td> \n",
       "</tr>\n",
       "<tr>\n",
       "  <th> </th>                      <td> </td>        <th>  LLR p-value:       </th> <td>2.107e-65</td>\n",
       "</tr>\n",
       "</table>\n",
       "<table class=\"simpletable\">\n",
       "<tr>\n",
       "      <td></td>         <th>coef</th>     <th>std err</th>      <th>z</th>      <th>P>|z|</th> <th>[95.0% Conf. Int.]</th> \n",
       "</tr>\n",
       "<tr>\n",
       "  <th>male</th>      <td>   -2.5311</td> <td>    0.206</td> <td>  -12.292</td> <td> 0.000</td> <td>   -2.935    -2.128</td>\n",
       "</tr>\n",
       "<tr>\n",
       "  <th>adult</th>     <td>   -1.0689</td> <td>    0.271</td> <td>   -3.947</td> <td> 0.000</td> <td>   -1.600    -0.538</td>\n",
       "</tr>\n",
       "<tr>\n",
       "  <th>pclass_2</th>  <td>   -1.0102</td> <td>    0.260</td> <td>   -3.879</td> <td> 0.000</td> <td>   -1.521    -0.500</td>\n",
       "</tr>\n",
       "<tr>\n",
       "  <th>pclass_3</th>  <td>   -2.2125</td> <td>    0.251</td> <td>   -8.802</td> <td> 0.000</td> <td>   -2.705    -1.720</td>\n",
       "</tr>\n",
       "<tr>\n",
       "  <th>intercept</th> <td>    3.3235</td> <td>    0.360</td> <td>    9.229</td> <td> 0.000</td> <td>    2.618     4.029</td>\n",
       "</tr>\n",
       "</table>"
      ],
      "text/plain": [
       "<class 'statsmodels.iolib.summary.Summary'>\n",
       "\"\"\"\n",
       "                           Logit Regression Results                           \n",
       "==============================================================================\n",
       "Dep. Variable:               Survived   No. Observations:                  714\n",
       "Model:                          Logit   Df Residuals:                      709\n",
       "Method:                           MLE   Df Model:                            4\n",
       "Date:                Tue, 02 Aug 2016   Pseudo R-squ.:                  0.3193\n",
       "Time:                        18:30:55   Log-Likelihood:                -328.29\n",
       "converged:                       True   LL-Null:                       -482.26\n",
       "                                        LLR p-value:                 2.107e-65\n",
       "==============================================================================\n",
       "                 coef    std err          z      P>|z|      [95.0% Conf. Int.]\n",
       "------------------------------------------------------------------------------\n",
       "male          -2.5311      0.206    -12.292      0.000        -2.935    -2.128\n",
       "adult         -1.0689      0.271     -3.947      0.000        -1.600    -0.538\n",
       "pclass_2      -1.0102      0.260     -3.879      0.000        -1.521    -0.500\n",
       "pclass_3      -2.2125      0.251     -8.802      0.000        -2.705    -1.720\n",
       "intercept      3.3235      0.360      9.229      0.000         2.618     4.029\n",
       "==============================================================================\n",
       "\"\"\""
      ]
     },
     "execution_count": 38,
     "metadata": {},
     "output_type": "execute_result"
    }
   ],
   "source": [
    "pred_cols = data_for_logit.columns[1:]\n",
    "logit = sm.Logit(data_for_logit['Survived'], data_for_logit[pred_cols])\n",
    "result = logit.fit()\n",
    "result.summary()"
   ]
  },
  {
   "cell_type": "markdown",
   "metadata": {},
   "source": [
    "Exponentiating the coefficients gives us the odds ratios:"
   ]
  },
  {
   "cell_type": "code",
   "execution_count": 39,
   "metadata": {
    "collapsed": false
   },
   "outputs": [
    {
     "data": {
      "text/plain": [
       "male          0.079568\n",
       "adult         0.343371\n",
       "pclass_2      0.364158\n",
       "pclass_3      0.109431\n",
       "intercept    27.758443\n",
       "dtype: float64"
      ]
     },
     "execution_count": 39,
     "metadata": {},
     "output_type": "execute_result"
    }
   ],
   "source": [
    "np.exp(result.params)"
   ]
  },
  {
   "cell_type": "markdown",
   "metadata": {},
   "source": [
    "In words, the odds for males to survive were about 92% lower than for females, for adults about 66% lower than for children, and for the passengers in the second and third class about 64% and 90% lower than for those in the first class, respectively.\n",
    "\n",
    "It must be noted that this model didn't include any interactions, and so the effects for each predictor hold \"across all other predictors\", i.e. holding their values constant. A more sophisticated model could, for example, include interactions with passenger class, to reflect the previously highlighted difference in survival rates for women in different classes.\n",
    "\n",
    "As all p-values associated with our z-transformed coefficients are very small (essentially zero in the table), we can conclude that the observed differences in odds are very unlikely to be due to pure chance.\n",
    "\n",
    "## One more thing\n",
    "\n",
    "The last thing I would like to look at in this analysis are the cabins. One possible explanation for the different survival rates for passengers in different classes is that their cabins were located in such a way that people in the first class had better access to the lifeboats. I'll look for support of this notion in our cabin data.\n",
    "\n",
    "I'll assume that the letters in cabin labels are descriptive of their location, not the numbers.\n",
    "So I will look at all the passengers whose cabin data is available, and compare it with their passenger class."
   ]
  },
  {
   "cell_type": "code",
   "execution_count": 40,
   "metadata": {
    "collapsed": false
   },
   "outputs": [
    {
     "name": "stdout",
     "output_type": "stream",
     "text": [
      "204\n"
     ]
    },
    {
     "data": {
      "text/html": [
       "<div>\n",
       "<table border=\"1\" class=\"dataframe\">\n",
       "  <thead>\n",
       "    <tr style=\"text-align: right;\">\n",
       "      <th>Cab_letters</th>\n",
       "      <th>A</th>\n",
       "      <th>B</th>\n",
       "      <th>C</th>\n",
       "      <th>D</th>\n",
       "      <th>E</th>\n",
       "      <th>F</th>\n",
       "      <th>G</th>\n",
       "      <th>T</th>\n",
       "    </tr>\n",
       "    <tr>\n",
       "      <th>Pclass</th>\n",
       "      <th></th>\n",
       "      <th></th>\n",
       "      <th></th>\n",
       "      <th></th>\n",
       "      <th></th>\n",
       "      <th></th>\n",
       "      <th></th>\n",
       "      <th></th>\n",
       "    </tr>\n",
       "  </thead>\n",
       "  <tbody>\n",
       "    <tr>\n",
       "      <th>1</th>\n",
       "      <td>15</td>\n",
       "      <td>47</td>\n",
       "      <td>59</td>\n",
       "      <td>29</td>\n",
       "      <td>25</td>\n",
       "      <td>0</td>\n",
       "      <td>0</td>\n",
       "      <td>1</td>\n",
       "    </tr>\n",
       "    <tr>\n",
       "      <th>2</th>\n",
       "      <td>0</td>\n",
       "      <td>0</td>\n",
       "      <td>0</td>\n",
       "      <td>4</td>\n",
       "      <td>4</td>\n",
       "      <td>8</td>\n",
       "      <td>0</td>\n",
       "      <td>0</td>\n",
       "    </tr>\n",
       "    <tr>\n",
       "      <th>3</th>\n",
       "      <td>0</td>\n",
       "      <td>0</td>\n",
       "      <td>0</td>\n",
       "      <td>0</td>\n",
       "      <td>3</td>\n",
       "      <td>5</td>\n",
       "      <td>4</td>\n",
       "      <td>0</td>\n",
       "    </tr>\n",
       "  </tbody>\n",
       "</table>\n",
       "</div>"
      ],
      "text/plain": [
       "Cab_letters   A   B   C   D   E  F  G  T\n",
       "Pclass                                  \n",
       "1            15  47  59  29  25  0  0  1\n",
       "2             0   0   0   4   4  8  0  0\n",
       "3             0   0   0   0   3  5  4  0"
      ]
     },
     "execution_count": 40,
     "metadata": {},
     "output_type": "execute_result"
    }
   ],
   "source": [
    "# get only data for passenger class and cabin for those 204 with cabin data\n",
    "data2 = data[['Pclass', 'Cabin']].dropna()\n",
    "print len(data2)\n",
    "\n",
    "# add a column with only the cabin letters\n",
    "cab_letters = []\n",
    "tmp = data2['Cabin']\n",
    "for val in tmp:\n",
    "    cab_letters.append(val[0])\n",
    "data2.loc[:, 'Cab_letters'] = cab_letters\n",
    "\n",
    "# cross table of passenger class and cabin letters\n",
    "pd.crosstab(data2['Pclass'], data2['Cab_letters'])"
   ]
  },
  {
   "cell_type": "markdown",
   "metadata": {},
   "source": [
    "It would seem that cabins A, B, C at least were reserved for the first class passengers. However, one has to be careful here: There's almost no cabin data for the third class, even though most of the passengers were in it - a clear bias. \n",
    "\n",
    "I think there is some weak evidence that cabin placement on the ship could be responsible for the difference in survival rates between passenger classes, but it's quite hard to say based only on this biased data. We cannot assume that there were no second and third class passengers in A, B, C cabins. There may be some confounding reason why we only have cabin data for first class here. I would need to learn more about the cabin layout on the Titanic to draw further conclusions."
   ]
  },
  {
   "cell_type": "markdown",
   "metadata": {},
   "source": [
    "## Conclusions\n",
    "\n",
    "I found support for my initial intuitions: Based on our dataset, survival on the Titanic differed by gender, age, and passenger class. In general, higher survival rates were found for women, children, and passengers in higher class. However, there were some interaction effects with class. For instance, almost all women in the first and second class survived, as did almost all children - but less than half of women and children survived in the third class. One possible explanation for this effect could be cabin locations on the ship, but it's hard to tell from this dataset, as we have a relatively small and very biased sample of cabin data. Another partial explanation for the observed differences could be the intuition that men helped women and children escape first. This is tentatively supported by the fact that less than half of the men survived in each class (but again, 40% in 1st, but only 15% in 2nd and 3rd).\n",
    "\n",
    "In order to provide better explanations, I would need some more background knowledge about the Titanic and its layout, which would allow me to reconstruct missing cabin data. Some qualitative data could help as well, e.g. some eye-witnesses' accounts of the disaster.\n",
    "\n",
    "I left out some potentially interesting variables in this dataset, like the number of siblings / children / spouse on board, which could potentially help predict individual survival rates (e.g., children with siblings more likely to escape together, or people with their spouses). I'll leave building such a predictive model to further projects.\n",
    "\n"
   ]
  },
  {
   "cell_type": "markdown",
   "metadata": {},
   "source": [
    "*** \n",
    "### Resources used:\n",
    "\n",
    "For the logistic regression this great post was very helpful:\n",
    "\n",
    "<http://blog.yhat.com/posts/logistic-regression-and-python.html>"
   ]
  }
 ],
 "metadata": {
  "kernelspec": {
   "display_name": "Python 2",
   "language": "python",
   "name": "python2"
  },
  "language_info": {
   "codemirror_mode": {
    "name": "ipython",
    "version": 2
   },
   "file_extension": ".py",
   "mimetype": "text/x-python",
   "name": "python",
   "nbconvert_exporter": "python",
   "pygments_lexer": "ipython2",
   "version": "2.7.12"
  }
 },
 "nbformat": 4,
 "nbformat_minor": 0
}
